{
 "cells": [
  {
   "cell_type": "code",
   "execution_count": null,
   "id": "bcf99b62-3a1e-4829-a3d8-66edd220ad98",
   "metadata": {},
   "outputs": [
    {
     "name": "stdout",
     "output_type": "stream",
     "text": [
      "---FILE MANAGEMENT PAGE---\n",
      "HERE ARE YOUR CHOICES:\n",
      "1 : Create file\n",
      "2 : View all files\n",
      "3 : Delete file\n",
      "4 : Read file\n",
      "5 : Edit file\n",
      "6 : Exit\n"
     ]
    },
    {
     "name": "stdin",
     "output_type": "stream",
     "text": [
      "Enter your choice :  2\n"
     ]
    },
    {
     "name": "stdout",
     "output_type": "stream",
     "text": [
      "---FILE MANAGEMENT PAGE---\n",
      "HERE ARE YOUR CHOICES:\n",
      "1 : Create file\n",
      "2 : View all files\n",
      "3 : Delete file\n",
      "4 : Read file\n",
      "5 : Edit file\n",
      "6 : Exit\n"
     ]
    }
   ],
   "source": [
    "import os\n",
    "\n",
    "def create_file(filename):\n",
    "    try:\n",
    "        with open(filename,'x') as f:\n",
    "            print(f\"File named as \\\"{filename}\\\" created successfully!\")\n",
    "    except fileExistError:\n",
    "        print(f\"file named as \\\"{filename}\\\" already existed!\")\n",
    "    except Exception as E:\n",
    "        print(\"An error occured!\")\n",
    "\n",
    "def view_all_files():\n",
    "    files=os.listdir()\n",
    "    if not files:\n",
    "        print('No file found!')\n",
    "    else:\n",
    "        print(\"Files in directory!\")\n",
    "        for file in files:\n",
    "            print(files)\n",
    "\n",
    "def delete_file(filename):\n",
    "    try:\n",
    "        os.remove(filename)\n",
    "        print(f\"{filename} has been deleted successfully!\")\n",
    "    except FileNotFoundError:\n",
    "        print(\"File not found!\")\n",
    "    except Exception as E:\n",
    "        print(\"An error occured!\")\n",
    "\n",
    "def read_file(filename):\n",
    "    try:\n",
    "        with open('sample.txt' , 'r') as f:\n",
    "            content = f.read()\n",
    "            print(f\"Content of '{filename}' :/n{content}\")\n",
    "    except FileNotFoundErrorError:\n",
    "        print(f\"{filename} not found!\")\n",
    "    except Exception as E:\n",
    "        print(\"An error occured!\")\n",
    "\n",
    "def edit_file(filename):\n",
    "    try:\n",
    "        with open('sample.txt' , 'a') as f:\n",
    "            content=input(\"Enter data to add : \")\n",
    "            f.write(content + \"\\n\")\n",
    "            print(f\"Content added to {filename} successfully\")\n",
    "    except FileNotFoundError:\n",
    "        print(f\"{filename} not found!\")\n",
    "    except Exception as E:\n",
    "        print(\"An error occured!\")\n",
    "\n",
    "def main():\n",
    "    while True:\n",
    "        print(\"---FILE MANAGEMENT PAGE---\\nHERE ARE YOUR CHOICES:\\n1 : Create file\\n2 : View all files\\n3 : Delete file\\n4 : Read file\\n5 : Edit file\\n6 : Exit\")\n",
    "        choice=int(input(\"Enter your choice : \"))\n",
    "\n",
    "        if choice==1:\n",
    "            filename=input(\"Enter the name of the file you want to create : \")\n",
    "            create_file(filename)\n",
    "        elif choice==2:\n",
    "            view_all_files\n",
    "        elif choice==3:\n",
    "            filename=input(\"Enter the filename you want to delete : \")\n",
    "            delete_file\n",
    "        elif choice==4:\n",
    "            filename=input(\"Enter the filename you want to read : \")\n",
    "            read_file(filename)\n",
    "        elif choice==5:\n",
    "            filename=input(\"Enter the filename you want to edit : \")\n",
    "            edit_file(filename)\n",
    "        elif choice==6:\n",
    "            print(\"...CLOSING THE PAGE...\")\n",
    "            break\n",
    "        else:\n",
    "            print(\"Invalid Choice\")\n",
    "\n",
    "\n",
    "main()\n",
    "        "
   ]
  },
  {
   "cell_type": "code",
   "execution_count": null,
   "id": "2051f1f7-df9a-4441-8dbb-2e66de48ff2c",
   "metadata": {},
   "outputs": [],
   "source": []
  }
 ],
 "metadata": {
  "kernelspec": {
   "display_name": "Python [conda env:base] *",
   "language": "python",
   "name": "conda-base-py"
  },
  "language_info": {
   "codemirror_mode": {
    "name": "ipython",
    "version": 3
   },
   "file_extension": ".py",
   "mimetype": "text/x-python",
   "name": "python",
   "nbconvert_exporter": "python",
   "pygments_lexer": "ipython3",
   "version": "3.12.7"
  }
 },
 "nbformat": 4,
 "nbformat_minor": 5
}
