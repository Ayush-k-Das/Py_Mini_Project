{
 "cells": [
  {
   "cell_type": "code",
   "execution_count": 18,
   "id": "998e146f-07b3-49ce-b018-1d48e46b5936",
   "metadata": {},
   "outputs": [
    {
     "name": "stdout",
     "output_type": "stream",
     "text": [
      "--WELCOME TO THE GAME--\n",
      "There will be a total of 5 rounds of fight between you and computer,\n",
      " and the winner will be declared at the end based on the number of wins\n"
     ]
    },
    {
     "name": "stdin",
     "output_type": "stream",
     "text": [
      "Do you wanna play? (yes/no):  yes\n"
     ]
    },
    {
     "name": "stdout",
     "output_type": "stream",
     "text": [
      "Let's Play!\n",
      "\n",
      "Round 1\n"
     ]
    },
    {
     "name": "stdin",
     "output_type": "stream",
     "text": [
      "Enter your move = Rock, Paper, Scissor =  rock\n"
     ]
    },
    {
     "name": "stdout",
     "output_type": "stream",
     "text": [
      "User choice = Rock, Computer choice = Paper\n",
      "Paper covers Rock = Computer Wins\n",
      "\n",
      "Round 2\n"
     ]
    },
    {
     "name": "stdin",
     "output_type": "stream",
     "text": [
      "Enter your move = Rock, Paper, Scissor =  paper\n"
     ]
    },
    {
     "name": "stdout",
     "output_type": "stream",
     "text": [
      "User choice = Paper, Computer choice = Paper\n",
      "Both chose the same = Match Tie\n",
      "\n",
      "Round 3\n"
     ]
    },
    {
     "name": "stdin",
     "output_type": "stream",
     "text": [
      "Enter your move = Rock, Paper, Scissor =  scissor\n"
     ]
    },
    {
     "name": "stdout",
     "output_type": "stream",
     "text": [
      "User choice = Scissor, Computer choice = Scissor\n",
      "Both chose the same = Match Tie\n",
      "\n",
      "Round 4\n"
     ]
    },
    {
     "name": "stdin",
     "output_type": "stream",
     "text": [
      "Enter your move = Rock, Paper, Scissor =  rock\n"
     ]
    },
    {
     "name": "stdout",
     "output_type": "stream",
     "text": [
      "User choice = Rock, Computer choice = Scissor\n",
      "Rock smashes Scissor = You Win\n",
      "\n",
      "Round 5\n"
     ]
    },
    {
     "name": "stdin",
     "output_type": "stream",
     "text": [
      "Enter your move = Rock, Paper, Scissor =  paper\n"
     ]
    },
    {
     "name": "stdout",
     "output_type": "stream",
     "text": [
      "User choice = Paper, Computer choice = Paper\n",
      "Both chose the same = Match Tie\n",
      "\n",
      "--- Game Over ---\n",
      "Your Wins: 1\n",
      "Computer Wins: 1\n",
      "Ties: 3\n",
      "🤝 It's a Tie Overall!\n"
     ]
    }
   ],
   "source": [
    "import random\n",
    "item_list = [\"Rock\", \"Paper\", \"Scissor\"]\n",
    "\n",
    "print(\"--WELCOME TO THE GAME--\")\n",
    "print(\"There will be a total of 5 rounds of fight between you and computer,\\n and the winner will be declared at the end based on the number of wins\")\n",
    "pmr = input(\"Do you wanna play? (yes/no): \")\n",
    "\n",
    "if pmr.lower() == \"no\":\n",
    "    print(\"Bye for now\\nNext time maybe\")\n",
    "\n",
    "elif pmr.lower() == \"yes\":\n",
    "    print(\"Let's Play!\")\n",
    "\n",
    "    user_score = 0\n",
    "    comp_score = 0\n",
    "    tie_score = 0\n",
    "\n",
    "    for i in range(5):\n",
    "        print(f\"\\nRound {i+1}\")\n",
    "        user_choice = input(\"Enter your move = Rock, Paper, Scissor = \").lower()\n",
    "        comp_choice = random.choice(item_list).lower()\n",
    "\n",
    "        print(f\"User choice = {user_choice.capitalize()}, Computer choice = {comp_choice.capitalize()}\")\n",
    "\n",
    "        if user_choice == comp_choice:\n",
    "            print(\"Both chose the same = Match Tie\")\n",
    "            tie_score += 1\n",
    "\n",
    "        elif user_choice == \"rock\":\n",
    "            if comp_choice == \"paper\":\n",
    "                print(\"Paper covers Rock = Computer Wins\")\n",
    "                comp_score += 1\n",
    "            else:\n",
    "                print(\"Rock smashes Scissor = You Win\")\n",
    "                user_score += 1\n",
    "\n",
    "        elif user_choice == \"paper\":\n",
    "            if comp_choice == \"scissor\":\n",
    "                print(\"Scissor cuts Paper = Computer Wins\")\n",
    "                comp_score += 1\n",
    "            else:\n",
    "                print(\"Paper covers Rock = You Win\")\n",
    "                user_score += 1\n",
    "\n",
    "        elif user_choice == \"scissor\":\n",
    "            if comp_choice == \"paper\":\n",
    "                print(\"Scissor cuts Paper = You Win\")\n",
    "                user_score += 1\n",
    "            else:\n",
    "                print(\"Rock smashes Scissor = Computer Wins\")\n",
    "                comp_score += 1\n",
    "\n",
    "        else:\n",
    "            print(\"Invalid input!\")\n",
    "\n",
    "    # Final Result Summary\n",
    "    print(\"\\n--- Game Over ---\")\n",
    "    print(f\"Your Wins: {user_score}\")\n",
    "    print(f\"Computer Wins: {comp_score}\")\n",
    "    print(f\"Ties: {tie_score}\")\n",
    "\n",
    "    if user_score > comp_score:\n",
    "        print(\"🎉 Congratulations! You are the Overall Winner!\")\n",
    "    elif comp_score > user_score:\n",
    "        print(\"😞 Computer Wins the Game! Better luck next time.\")\n",
    "    else:\n",
    "        print(\"🤝 It's a Tie Overall!\")\n",
    "\n",
    "else:\n",
    "    print(\"Invalid Choice!\")\n",
    "\n",
    "\n"
   ]
  },
  {
   "cell_type": "code",
   "execution_count": null,
   "id": "16905338-beba-42b3-9e9f-d318b1af39f7",
   "metadata": {},
   "outputs": [],
   "source": []
  }
 ],
 "metadata": {
  "kernelspec": {
   "display_name": "Python [conda env:base] *",
   "language": "python",
   "name": "conda-base-py"
  },
  "language_info": {
   "codemirror_mode": {
    "name": "ipython",
    "version": 3
   },
   "file_extension": ".py",
   "mimetype": "text/x-python",
   "name": "python",
   "nbconvert_exporter": "python",
   "pygments_lexer": "ipython3",
   "version": "3.12.7"
  }
 },
 "nbformat": 4,
 "nbformat_minor": 5
}
