{
 "cells": [
  {
   "cell_type": "code",
   "execution_count": 1,
   "id": "4257680b-b162-4640-9353-87a28d642fc7",
   "metadata": {},
   "outputs": [
    {
     "name": "stdin",
     "output_type": "stream",
     "text": [
      "Please enter website address(URL): file:///D:/50%20Python%20Projects%20Scripts.pdf\n"
     ]
    },
    {
     "name": "stdout",
     "output_type": "stream",
     "text": [
      "Hostname: file:///D:/50%20Python%20Projects%20Scripts.pdf\n",
      "Invalid Hostname, error raised is [Errno 11001] getaddrinfo failed\n"
     ]
    }
   ],
   "source": [
    " # Get Ipaddress and Hostname of Website\n",
    " # importing socket library\n",
    "import socket \n",
    "def get_hostname_IP(): \n",
    "    hostname = input(\"Please enter website address(URL):\") \n",
    "    try: \n",
    "        print (f'Hostname: {hostname}') \n",
    "        print (f'IP: {socket.gethostbyname(hostname)}') \n",
    "    except socket.gaierror as error: \n",
    "        print (f'Invalid Hostname, error raised is {error}') \n",
    "get_hostname_IP()"
   ]
  },
  {
   "cell_type": "code",
   "execution_count": null,
   "id": "950a4967-aa3a-4129-becf-f64becadeac9",
   "metadata": {},
   "outputs": [],
   "source": []
  }
 ],
 "metadata": {
  "kernelspec": {
   "display_name": "Python [conda env:base] *",
   "language": "python",
   "name": "conda-base-py"
  },
  "language_info": {
   "codemirror_mode": {
    "name": "ipython",
    "version": 3
   },
   "file_extension": ".py",
   "mimetype": "text/x-python",
   "name": "python",
   "nbconvert_exporter": "python",
   "pygments_lexer": "ipython3",
   "version": "3.12.7"
  }
 },
 "nbformat": 4,
 "nbformat_minor": 5
}
