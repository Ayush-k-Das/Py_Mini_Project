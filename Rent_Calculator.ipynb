{
 "cells": [
  {
   "cell_type": "code",
   "execution_count": 4,
   "id": "e8e7f3cc-aef4-4920-aad7-982f632c0f3e",
   "metadata": {},
   "outputs": [
    {
     "name": "stdin",
     "output_type": "stream",
     "text": [
      "Enter the month of billing : February\n",
      "Enter your hostel/flat rent =  5500\n",
      "Enter the amount of food ordered =  1500\n",
      "Enter the total of electricity spend =  650\n",
      "Enter the charge per unit =  11\n",
      "Enter the total internet charges (0 if none) =  300\n",
      "Enter the number of persons living in room/flat =  4\n"
     ]
    },
    {
     "name": "stdout",
     "output_type": "stream",
     "text": [
      "For the month of February each person will pay = ₹3612\n"
     ]
    }
   ],
   "source": [
    "month = input(\"Enter the month of billing :\")\n",
    "rent = int(input(\"Enter your hostel/flat rent = \"))\n",
    "food = int(input(\"Enter the amount of food ordered = \"))\n",
    "electricity_spend = int(input(\"Enter the total of electricity spend = \"))\n",
    "charge_per_unit = int(input(\"Enter the charge per unit = \"))\n",
    "wifi = int(input(\"Enter the total internet charges (0 if none) = \"))\n",
    "persons = int(input(\"Enter the number of persons living in room/flat = \"))\n",
    "\n",
    "total_bill = electricity_spend * charge_per_unit\n",
    "\n",
    "output = (food + rent + wifi + total_bill) // persons\n",
    "\n",
    "print(f\"For the month of {month} each person will pay = ₹{output}\")"
   ]
  },
  {
   "cell_type": "code",
   "execution_count": null,
   "id": "4d4ccbcd-a99e-4ee6-a7cd-41fe45a67795",
   "metadata": {},
   "outputs": [],
   "source": []
  }
 ],
 "metadata": {
  "kernelspec": {
   "display_name": "Python [conda env:base] *",
   "language": "python",
   "name": "conda-base-py"
  },
  "language_info": {
   "codemirror_mode": {
    "name": "ipython",
    "version": 3
   },
   "file_extension": ".py",
   "mimetype": "text/x-python",
   "name": "python",
   "nbconvert_exporter": "python",
   "pygments_lexer": "ipython3",
   "version": "3.12.7"
  }
 },
 "nbformat": 4,
 "nbformat_minor": 5
}
