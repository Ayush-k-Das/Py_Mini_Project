{
 "cells": [
  {
   "cell_type": "code",
   "execution_count": 7,
   "id": "e348cb08-3f7b-4c1a-b4d1-d22bb8dd428f",
   "metadata": {},
   "outputs": [
    {
     "name": "stdout",
     "output_type": "stream",
     "text": [
      "Collecting pyspellchecker\n",
      "  Downloading pyspellchecker-0.8.3-py3-none-any.whl.metadata (9.5 kB)\n",
      "Downloading pyspellchecker-0.8.3-py3-none-any.whl (7.2 MB)\n",
      "   ---------------------------------------- 0.0/7.2 MB ? eta -:--:--\n",
      "   -------------------- ------------------- 3.7/7.2 MB 8.7 MB/s eta 0:00:01\n",
      "   ------------------------------------ --- 6.6/7.2 MB 8.4 MB/s eta 0:00:01\n",
      "   ---------------------------------------- 7.2/7.2 MB 7.1 MB/s eta 0:00:00\n",
      "Installing collected packages: pyspellchecker\n",
      "Successfully installed pyspellchecker-0.8.3\n"
     ]
    }
   ],
   "source": [
    "!pip install pyspellchecker"
   ]
  },
  {
   "cell_type": "code",
   "execution_count": 8,
   "id": "f9f422b5-0328-461c-bdcd-df3c2b8f2bec",
   "metadata": {},
   "outputs": [
    {
     "name": "stdout",
     "output_type": "stream",
     "text": [
      "---SPELL CHECKER---\n"
     ]
    },
    {
     "name": "stdin",
     "output_type": "stream",
     "text": [
      "Enter text to check or type exit to close : helo I am a finl yearr stuent in tee univverssitty.\n"
     ]
    },
    {
     "name": "stdout",
     "output_type": "stream",
     "text": [
      "Correcting \"helo\" to \"help\"\n",
      "Correcting \"I\" to \"I\"\n",
      "Correcting \"finl\" to \"find\"\n",
      "Correcting \"yearr\" to \"years\"\n",
      "Correcting \"stuent\" to \"student\"\n",
      "Correcting \"univverssitty.\" to \"None\"\n"
     ]
    },
    {
     "ename": "TypeError",
     "evalue": "sequence item 5: expected str instance, NoneType found",
     "output_type": "error",
     "traceback": [
      "\u001b[1;31m---------------------------------------------------------------------------\u001b[0m",
      "\u001b[1;31mTypeError\u001b[0m                                 Traceback (most recent call last)",
      "Cell \u001b[1;32mIn[8], line 32\u001b[0m\n\u001b[0;32m     29\u001b[0m                 \u001b[38;5;28mprint\u001b[39m(\u001b[38;5;124mf\u001b[39m\u001b[38;5;124m\"\u001b[39m\u001b[38;5;124mCorrected Text : \u001b[39m\u001b[38;5;132;01m{\u001b[39;00mcorrected_text\u001b[38;5;132;01m}\u001b[39;00m\u001b[38;5;124m\"\u001b[39m)\n\u001b[0;32m     31\u001b[0m \u001b[38;5;28;01mif\u001b[39;00m \u001b[38;5;18m__name__\u001b[39m\u001b[38;5;241m==\u001b[39m\u001b[38;5;124m\"\u001b[39m\u001b[38;5;124m__main__\u001b[39m\u001b[38;5;124m\"\u001b[39m:\n\u001b[1;32m---> 32\u001b[0m     SpellCheckerApp()\u001b[38;5;241m.\u001b[39mrun()\n",
      "Cell \u001b[1;32mIn[8], line 28\u001b[0m, in \u001b[0;36mSpellCheckerApp.run\u001b[1;34m(self)\u001b[0m\n\u001b[0;32m     26\u001b[0m     \u001b[38;5;28;01mbreak\u001b[39;00m\n\u001b[0;32m     27\u001b[0m \u001b[38;5;28;01melse\u001b[39;00m:\n\u001b[1;32m---> 28\u001b[0m     corrected_text\u001b[38;5;241m=\u001b[39m\u001b[38;5;28mself\u001b[39m\u001b[38;5;241m.\u001b[39mcorrect_text(text)\n\u001b[0;32m     29\u001b[0m     \u001b[38;5;28mprint\u001b[39m(\u001b[38;5;124mf\u001b[39m\u001b[38;5;124m\"\u001b[39m\u001b[38;5;124mCorrected Text : \u001b[39m\u001b[38;5;132;01m{\u001b[39;00mcorrected_text\u001b[38;5;132;01m}\u001b[39;00m\u001b[38;5;124m\"\u001b[39m)\n",
      "Cell \u001b[1;32mIn[8], line 17\u001b[0m, in \u001b[0;36mSpellCheckerApp.correct_text\u001b[1;34m(self, text)\u001b[0m\n\u001b[0;32m     14\u001b[0m         \u001b[38;5;28mprint\u001b[39m(\u001b[38;5;124mf\u001b[39m\u001b[38;5;124m\"\u001b[39m\u001b[38;5;124mCorrecting \u001b[39m\u001b[38;5;130;01m\\\"\u001b[39;00m\u001b[38;5;132;01m{\u001b[39;00mword\u001b[38;5;132;01m}\u001b[39;00m\u001b[38;5;130;01m\\\"\u001b[39;00m\u001b[38;5;124m to \u001b[39m\u001b[38;5;130;01m\\\"\u001b[39;00m\u001b[38;5;132;01m{\u001b[39;00mcorrected_word\u001b[38;5;132;01m}\u001b[39;00m\u001b[38;5;130;01m\\\"\u001b[39;00m\u001b[38;5;124m\"\u001b[39m)\n\u001b[0;32m     15\u001b[0m         corrected_words\u001b[38;5;241m.\u001b[39mappend(corrected_word)\n\u001b[1;32m---> 17\u001b[0m \u001b[38;5;28;01mreturn\u001b[39;00m \u001b[38;5;124m'\u001b[39m\u001b[38;5;124m \u001b[39m\u001b[38;5;124m'\u001b[39m\u001b[38;5;241m.\u001b[39mjoin(corrected_words)\n",
      "\u001b[1;31mTypeError\u001b[0m: sequence item 5: expected str instance, NoneType found"
     ]
    }
   ],
   "source": [
    "from spellchecker import SpellChecker\n",
    "\n",
    "class SpellCheckerApp:\n",
    "    def __init__(self):\n",
    "        self.spell=SpellChecker()\n",
    "\n",
    "    def correct_text(self,text):\n",
    "        words=text.split()\n",
    "        corrected_words=[]\n",
    "\n",
    "        for word in words:\n",
    "            corrected_word=self.spell.correction(word)\n",
    "            if corrected_word!=word.lower():\n",
    "                print(f\"Correcting \\\"{word}\\\" to \\\"{corrected_word}\\\"\")\n",
    "                corrected_words.append(corrected_word)\n",
    "\n",
    "        return ' '.join(corrected_words)\n",
    "\n",
    "    def run(self):\n",
    "        print(\"---SPELL CHECKER---\")\n",
    "\n",
    "        while True:\n",
    "            text=input(\"Enter text to check or type exit to close :\")\n",
    "            if text.lower()==\"exit\":\n",
    "                print(\"...CLOSING...\")\n",
    "                break\n",
    "            else:\n",
    "                corrected_text=self.correct_text(text)\n",
    "                print(f\"Corrected Text : {corrected_text}\")\n",
    "\n",
    "if __name__==\"__main__\":\n",
    "    SpellCheckerApp().run()\n",
    "        "
   ]
  },
  {
   "cell_type": "code",
   "execution_count": null,
   "id": "c7156cf0-85ac-456f-be71-2671f5dab69f",
   "metadata": {},
   "outputs": [],
   "source": []
  }
 ],
 "metadata": {
  "kernelspec": {
   "display_name": "Python [conda env:base] *",
   "language": "python",
   "name": "conda-base-py"
  },
  "language_info": {
   "codemirror_mode": {
    "name": "ipython",
    "version": 3
   },
   "file_extension": ".py",
   "mimetype": "text/x-python",
   "name": "python",
   "nbconvert_exporter": "python",
   "pygments_lexer": "ipython3",
   "version": "3.12.7"
  }
 },
 "nbformat": 4,
 "nbformat_minor": 5
}
