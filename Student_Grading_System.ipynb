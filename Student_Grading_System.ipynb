{
 "cells": [
  {
   "cell_type": "code",
   "execution_count": 5,
   "id": "2ae4c0c5-14a3-4764-acdc-aec93b1ca414",
   "metadata": {},
   "outputs": [
    {
     "name": "stdout",
     "output_type": "stream",
     "text": [
      "Student Grading System\n",
      "CHOICES:\n",
      "1. Add Student\n",
      "2. Update Student\n",
      "3. Delete Student\n",
      "4. View Student\n",
      "5. Exit\n"
     ]
    },
    {
     "name": "stdin",
     "output_type": "stream",
     "text": [
      "Enter your choice (1/2/3/4/5):  1\n",
      "Enter Student Name :  Ayush\n",
      "Enter Student Marks (0-100) :  68\n"
     ]
    },
    {
     "name": "stdout",
     "output_type": "stream",
     "text": [
      "Successfully added name : Ayush with marks : 68\n",
      "Student Grading System\n",
      "CHOICES:\n",
      "1. Add Student\n",
      "2. Update Student\n",
      "3. Delete Student\n",
      "4. View Student\n",
      "5. Exit\n"
     ]
    },
    {
     "name": "stdin",
     "output_type": "stream",
     "text": [
      "Enter your choice (1/2/3/4/5):  1\n",
      "Enter Student Name :  Rohan\n",
      "Enter Student Marks (0-100) :  73\n"
     ]
    },
    {
     "name": "stdout",
     "output_type": "stream",
     "text": [
      "Successfully added name : Rohan with marks : 73\n",
      "Student Grading System\n",
      "CHOICES:\n",
      "1. Add Student\n",
      "2. Update Student\n",
      "3. Delete Student\n",
      "4. View Student\n",
      "5. Exit\n"
     ]
    },
    {
     "name": "stdin",
     "output_type": "stream",
     "text": [
      "Enter your choice (1/2/3/4/5):  1\n",
      "Enter Student Name :  Syam\n",
      "Enter Student Marks (0-100) :  56\n"
     ]
    },
    {
     "name": "stdout",
     "output_type": "stream",
     "text": [
      "Successfully added name : Syam with marks : 56\n",
      "Student Grading System\n",
      "CHOICES:\n",
      "1. Add Student\n",
      "2. Update Student\n",
      "3. Delete Student\n",
      "4. View Student\n",
      "5. Exit\n"
     ]
    },
    {
     "name": "stdin",
     "output_type": "stream",
     "text": [
      "Enter your choice (1/2/3/4/5):  4\n"
     ]
    },
    {
     "name": "stdout",
     "output_type": "stream",
     "text": [
      "STUDENT RECORDS\n",
      "Ayush secured 68 marks that makes his/her grade : B \n",
      "Rohan secured 73 marks that makes his/her grade : A \n",
      "Syam secured 56 marks that makes his/her grade : C \n",
      "Student Grading System\n",
      "CHOICES:\n",
      "1. Add Student\n",
      "2. Update Student\n",
      "3. Delete Student\n",
      "4. View Student\n",
      "5. Exit\n"
     ]
    },
    {
     "name": "stdin",
     "output_type": "stream",
     "text": [
      "Enter your choice (1/2/3/4/5):  5\n"
     ]
    },
    {
     "name": "stdout",
     "output_type": "stream",
     "text": [
      "...Closing the Grading System...\n"
     ]
    }
   ],
   "source": [
    "student_grades={}\n",
    "\n",
    "def get_grade(marks):\n",
    "    if 91 <= marks <= 100:\n",
    "        return \"O\"\n",
    "    elif 81 <= marks <= 90:\n",
    "        return \"E\"\n",
    "    elif 71 <= marks <= 80:\n",
    "        return \"A\"\n",
    "    elif 61 <= marks <= 70:\n",
    "        return \"B\"\n",
    "    elif 51 <= marks <= 60:\n",
    "        return \"C\"\n",
    "    elif 36 <= marks <= 50:\n",
    "        return \"D\"\n",
    "    elif 0 <= marks <= 35:\n",
    "        return \"F\"\n",
    "    else:\n",
    "        return \"Invalid\"\n",
    "        \n",
    "def add_student(name,marks):\n",
    "    get_grade(marks)\n",
    "    student_grades[name]=marks\n",
    "    print(f\"Successfully added name : {name} with marks : {marks}\")\n",
    "\n",
    "def update_student(name,marks):\n",
    "    if name in student_grades:\n",
    "        grade = get_grade(marks)\n",
    "        student_grades[name]={\"marks\":marks,\"grade\":grade}\n",
    "        print(f\"Successfully updated name : {name} with marks : {marks}\")\n",
    "    else:\n",
    "        print(f\"{name} is not found!\")\n",
    "\n",
    "def delete_student(name):\n",
    "    if name in student_grades:\n",
    "        del student_grades[name]\n",
    "        print(f\"Successfully deleted name : {name} \")\n",
    "    else:\n",
    "        print(f\"{name} is not found!\")\n",
    "\n",
    "def view_students():\n",
    "    if student_grades:\n",
    "        print(\"STUDENT RECORDS\")\n",
    "        for name,marks in student_grades.items():\n",
    "            grade = get_grade(marks)\n",
    "            print(f\"{name} secured {marks} marks that makes his/her grade : {grade} \")\n",
    "    else:\n",
    "        print(\"No students found/added\")\n",
    "\n",
    "def main():\n",
    "    while True:\n",
    "        print(\"Student Grading System\")\n",
    "        print(\"CHOICES:\\n1. Add Student\\n2. Update Student\\n3. Delete Student\\n4. View Student\\n5. Exit\")\n",
    "        choice=int(input(\"Enter your choice (1/2/3/4/5): \"))\n",
    "        if choice==1:\n",
    "            name=input(\"Enter Student Name : \")\n",
    "            marks=int(input(\"Enter Student Marks (0-100) : \"))\n",
    "            add_student(name,marks)\n",
    "        elif choice==2:\n",
    "            name=input(\"Enter Student Name : \")\n",
    "            marks=int(input(\"Enter Student Marks (0-100) : \"))\n",
    "            update_student(name,marks)\n",
    "        elif choice==3:\n",
    "            name=input(\"Enter Student Name : \")\n",
    "            delete_student(name)\n",
    "        elif choice==4:\n",
    "            view_students()\n",
    "        elif choice==5:\n",
    "            print(\"...Closing the Grading System...\")\n",
    "            break\n",
    "        else:\n",
    "            print(\"Invalid choice\")\n",
    "\n",
    "\n",
    "main()\n",
    "            "
   ]
  },
  {
   "cell_type": "code",
   "execution_count": null,
   "id": "6fc31bc6-7829-4919-be12-b648405e1cc5",
   "metadata": {},
   "outputs": [],
   "source": []
  }
 ],
 "metadata": {
  "kernelspec": {
   "display_name": "Python [conda env:base] *",
   "language": "python",
   "name": "conda-base-py"
  },
  "language_info": {
   "codemirror_mode": {
    "name": "ipython",
    "version": 3
   },
   "file_extension": ".py",
   "mimetype": "text/x-python",
   "name": "python",
   "nbconvert_exporter": "python",
   "pygments_lexer": "ipython3",
   "version": "3.12.7"
  }
 },
 "nbformat": 4,
 "nbformat_minor": 5
}
