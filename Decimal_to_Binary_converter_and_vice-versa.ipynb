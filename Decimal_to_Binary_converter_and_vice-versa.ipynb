{
 "cells": [
  {
   "cell_type": "code",
   "execution_count": 1,
   "id": "3b4df557-4594-4796-9430-ce5ce7d7c1a9",
   "metadata": {},
   "outputs": [
    {
     "name": "stdin",
     "output_type": "stream",
     "text": [
      "Choose an option: \n",
      " 1. Decimal to binary \n",
      " 2. Binary to decimal\n",
      " Option:  2\n",
      "Input your binary number:\n",
      " Binary:  100\n"
     ]
    },
    {
     "name": "stdout",
     "output_type": "stream",
     "text": [
      "Decimal: 4\n"
     ]
    }
   ],
   "source": [
    " try: \n",
    "    menu = int(input(\"Choose an option: \\n 1. Decimal to binary \\n 2. Binary to decimal\\n Option: \")) \n",
    "    if menu < 1 or menu > 2: \n",
    "        raise ValueError \n",
    "    if menu == 1: \n",
    "        dec = int(input(\"Input your decimal number:\\nDecimal: \")) \n",
    "        print(\"Binary: {}\".format(bin(dec)[2:])) \n",
    "    elif menu == 2: \n",
    "        binary = input(\"Input your binary number:\\n Binary: \") \n",
    "        print(\"Decimal: {}\".format(int(binary, 2))) \n",
    "except ValueError: \n",
    "    print (\"please choose a valid option\") "
   ]
  },
  {
   "cell_type": "code",
   "execution_count": null,
   "id": "562028d2-adc7-4d03-923e-28a923a12df2",
   "metadata": {},
   "outputs": [],
   "source": []
  }
 ],
 "metadata": {
  "kernelspec": {
   "display_name": "Python [conda env:base] *",
   "language": "python",
   "name": "conda-base-py"
  },
  "language_info": {
   "codemirror_mode": {
    "name": "ipython",
    "version": 3
   },
   "file_extension": ".py",
   "mimetype": "text/x-python",
   "name": "python",
   "nbconvert_exporter": "python",
   "pygments_lexer": "ipython3",
   "version": "3.12.7"
  }
 },
 "nbformat": 4,
 "nbformat_minor": 5
}
