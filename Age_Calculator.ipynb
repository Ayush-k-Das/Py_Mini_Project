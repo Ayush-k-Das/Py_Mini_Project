{
 "cells": [
  {
   "cell_type": "code",
   "execution_count": null,
   "id": "0b49e45c-42e3-4224-8465-939aae9ed186",
   "metadata": {},
   "outputs": [],
   "source": [
    "import time \n",
    "from calendar import isleap \n",
    "# judge the leap year\n",
    "def judge_leap_year(year): \n",
    "    if isleap(year): \n",
    "        return True \n",
    "    else: \n",
    "        return False \n",
    "# returns the number of days in each month\n",
    "def month_days(month, leap_year): \n",
    "    if month in [1, 3, 5, 7, 8, 10, 12]: \n",
    "        return 31 \n",
    "    elif month in [4, 6, 9, 11]: \n",
    "        return 30 \n",
    "    elif month == 2 and leap_year: \n",
    "        return 29 \n",
    "    elif month == 2 and (not leap_year): \n",
    "        return 28 \n",
    "name = input(\"input your name: \") \n",
    "age = input(\"input your age: \") \n",
    "localtime = time.localtime(time.time()) \n",
    "year = int(age) \n",
    "month = year * 12 + localtime.tm_mon \n",
    "day = 0 \n",
    "begin_year = int(localtime.tm_year) - year \n",
    "end_year = begin_year + year \n",
    "# calculate the days\n",
    "for y in range(begin_year, end_year): \n",
    "    if (judge_leap_year(y)): \n",
    "        day = day + 366 \n",
    "    else: \n",
    "        day = day + 365 \n",
    "leap_year = judge_leap_year(localtime.tm_year) \n",
    "for m in range(1, localtime.tm_mon): \n",
    "    day = day + month_days(m, leap_year) \n",
    "day = day + localtime.tm_mday \n",
    "print(\"%s's age is %d years or \" % (name, year), end=\"\") \n",
    "print(\"%d months or %d days\" % (month, day))"
   ]
  }
 ],
 "metadata": {
  "kernelspec": {
   "display_name": "Python [conda env:base] *",
   "language": "python",
   "name": "conda-base-py"
  },
  "language_info": {
   "codemirror_mode": {
    "name": "ipython",
    "version": 3
   },
   "file_extension": ".py",
   "mimetype": "text/x-python",
   "name": "python",
   "nbconvert_exporter": "python",
   "pygments_lexer": "ipython3",
   "version": "3.12.7"
  }
 },
 "nbformat": 4,
 "nbformat_minor": 5
}
