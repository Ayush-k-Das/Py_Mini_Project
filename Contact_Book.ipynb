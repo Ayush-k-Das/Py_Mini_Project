{
 "cells": [
  {
   "cell_type": "code",
   "execution_count": null,
   "id": "72601a16-a437-43a6-b2d4-166e6513c213",
   "metadata": {},
   "outputs": [
    {
     "name": "stdout",
     "output_type": "stream",
     "text": [
      "\n",
      "CONTACT BOOK\n",
      "1. Create Contact\n",
      "2. View Contact\n",
      "3. Update Contact\n",
      "4. Delete Contact\n",
      "5. Search Contact\n",
      "6. Count Contact\n",
      "7. Exit\n"
     ]
    },
    {
     "name": "stdin",
     "output_type": "stream",
     "text": [
      "Enter your choice :  1\n",
      "Enter the name of the contact :  as\n",
      "Enter age :  21\n",
      "Enter email id :  12\n",
      "Enter mobile :  12\n"
     ]
    },
    {
     "name": "stdout",
     "output_type": "stream",
     "text": [
      "Contact named \"as\" saved successfully!\n",
      "\n",
      "CONTACT BOOK\n",
      "1. Create Contact\n",
      "2. View Contact\n",
      "3. Update Contact\n",
      "4. Delete Contact\n",
      "5. Search Contact\n",
      "6. Count Contact\n",
      "7. Exit\n"
     ]
    },
    {
     "name": "stdin",
     "output_type": "stream",
     "text": [
      "Enter your choice :  1\n",
      "Enter the name of the contact :  df\n",
      "Enter age :  32\n",
      "Enter email id :  ede\n",
      "Enter mobile :  234\n"
     ]
    },
    {
     "name": "stdout",
     "output_type": "stream",
     "text": [
      "Contact named \"df\" saved successfully!\n",
      "\n",
      "CONTACT BOOK\n",
      "1. Create Contact\n",
      "2. View Contact\n",
      "3. Update Contact\n",
      "4. Delete Contact\n",
      "5. Search Contact\n",
      "6. Count Contact\n",
      "7. Exit\n"
     ]
    },
    {
     "name": "stdin",
     "output_type": "stream",
     "text": [
      "Enter your choice :  1\n",
      "Enter the name of the contact :  kj\n",
      "Enter age :  32\n",
      "Enter email id :  2ws\n",
      "Enter mobile :  234567\n"
     ]
    },
    {
     "name": "stdout",
     "output_type": "stream",
     "text": [
      "Contact named \"kj\" saved successfully!\n",
      "\n",
      "CONTACT BOOK\n",
      "1. Create Contact\n",
      "2. View Contact\n",
      "3. Update Contact\n",
      "4. Delete Contact\n",
      "5. Search Contact\n",
      "6. Count Contact\n",
      "7. Exit\n"
     ]
    },
    {
     "name": "stdin",
     "output_type": "stream",
     "text": [
      "Enter your choice :  2\n",
      "Enter the name of the contact you want to view :  as\n"
     ]
    },
    {
     "name": "stdout",
     "output_type": "stream",
     "text": [
      "Name   : as\n",
      "Age    : 21\n",
      "Email  : 12\n",
      "Mobile : 12\n",
      "\n",
      "CONTACT BOOK\n",
      "1. Create Contact\n",
      "2. View Contact\n",
      "3. Update Contact\n",
      "4. Delete Contact\n",
      "5. Search Contact\n",
      "6. Count Contact\n",
      "7. Exit\n"
     ]
    },
    {
     "name": "stdin",
     "output_type": "stream",
     "text": [
      "Enter your choice :  2\n",
      "Enter the name of the contact you want to view :  df\n"
     ]
    },
    {
     "name": "stdout",
     "output_type": "stream",
     "text": [
      "Name   : df\n",
      "Age    : 32\n",
      "Email  : ede\n",
      "Mobile : 234\n",
      "\n",
      "CONTACT BOOK\n",
      "1. Create Contact\n",
      "2. View Contact\n",
      "3. Update Contact\n",
      "4. Delete Contact\n",
      "5. Search Contact\n",
      "6. Count Contact\n",
      "7. Exit\n"
     ]
    },
    {
     "name": "stdin",
     "output_type": "stream",
     "text": [
      "Enter your choice :  5\n"
     ]
    }
   ],
   "source": [
    "contacts = {}\n",
    "\n",
    "while True:\n",
    "    print(\"\\nCONTACT BOOK\\n1. Create Contact\\n2. View Contact\\n3. Update Contact\\n4. Delete Contact\\n5. Search Contact\\n6. Count Contact\\n7. Exit\")\n",
    "    choice = int(input(\"Enter your choice : \"))\n",
    "\n",
    "    if choice == 1:\n",
    "        name = input(\"Enter the name of the contact : \")\n",
    "        if name in contacts:\n",
    "            print(f\"Contact named \\\"{name}\\\" already exists\")\n",
    "        else:\n",
    "            age = int(input(\"Enter age : \"))\n",
    "            email = input(\"Enter email id : \")\n",
    "            mobile = int(input(\"Enter mobile : \"))\n",
    "            contacts[name] = {\"age\": age, \"email\": email, \"mobile\": mobile}\n",
    "            print(f\"Contact named \\\"{name}\\\" saved successfully!\")\n",
    "\n",
    "    elif choice == 2:\n",
    "        name = input(\"Enter the name of the contact you want to view : \")\n",
    "        if name in contacts:\n",
    "            contact = contacts[name]\n",
    "            print(f\"Name   : {name}\")\n",
    "            print(f\"Age    : {contact['age']}\")\n",
    "            print(f\"Email  : {contact['email']}\")\n",
    "            print(f\"Mobile : {contact['mobile']}\")\n",
    "        else:\n",
    "            print(f\"Contact \\\"{name}\\\" does not exist\")\n",
    "\n",
    "    elif choice == 3:\n",
    "        name = input(\"Enter the name of the contact that you want to update : \")\n",
    "        if name in contacts:\n",
    "            age = int(input(\"Enter updated age : \"))\n",
    "            email = input(\"Enter updated email id : \")\n",
    "            mobile = int(input(\"Enter updated mobile : \"))\n",
    "            contacts[name] = {\"age\": age, \"email\": email, \"mobile\": mobile}\n",
    "            print(f\"Contact name \\\"{name}\\\" updated successfully!\")\n",
    "        else:\n",
    "            print(f\"Contact \\\"{name}\\\" does not exist\")\n",
    "\n",
    "    elif choice == 4:\n",
    "        name = input(\"Enter the name of the contact you want to delete : \")\n",
    "        if name in contacts:\n",
    "            del contacts[name]\n",
    "            print(f\"Contact \\\"{name}\\\" deleted successfully!\")\n",
    "        else:\n",
    "            print(f\"Contact \\\"{name}\\\" does not exist\")\n",
    "\n",
    "    elif choice == 5:\n",
    "        name = input(\"Enter the name of the contact you want to search : \")\n",
    "        if name in contacts:\n",
    "            print(f\"Contact \\\"{name}\\\" found\")\n",
    "            display = input(\"Do you want to view the contact details (Yes/No): \")\n",
    "            if display.lower() == \"yes\":\n",
    "                contact = contacts[name]\n",
    "                print(f\"Name   : {name}\")\n",
    "                print(f\"Age    : {contact['age']}\")\n",
    "                print(f\"Email  : {contact['email']}\")\n",
    "                print(f\"Mobile : {contact['mobile']}\")\n",
    "            elif display.lower() == \"no\":\n",
    "                continue\n",
    "            else:\n",
    "                print(\"Invalid input\")\n",
    "        else:\n",
    "            print(f\"Contact \\\"{name}\\\" not found\")\n",
    "\n",
    "    elif choice == 6:\n",
    "        print(f\"Total Contacts in your book : {len(contacts)}\")\n",
    "\n",
    "    elif choice == 7:\n",
    "        print(\"...CLOSING SYSTEM...\")\n",
    "        break\n",
    "\n",
    "    else:\n",
    "        print(\"Invalid Choice\")\n"
   ]
  },
  {
   "cell_type": "code",
   "execution_count": null,
   "id": "430f96c9-86d8-4012-b18e-70194326f04e",
   "metadata": {},
   "outputs": [],
   "source": []
  }
 ],
 "metadata": {
  "kernelspec": {
   "display_name": "Python [conda env:base] *",
   "language": "python",
   "name": "conda-base-py"
  },
  "language_info": {
   "codemirror_mode": {
    "name": "ipython",
    "version": 3
   },
   "file_extension": ".py",
   "mimetype": "text/x-python",
   "name": "python",
   "nbconvert_exporter": "python",
   "pygments_lexer": "ipython3",
   "version": "3.12.7"
  }
 },
 "nbformat": 4,
 "nbformat_minor": 5
}
