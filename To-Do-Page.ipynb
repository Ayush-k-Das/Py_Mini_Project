{
 "cells": [
  {
   "cell_type": "code",
   "execution_count": null,
   "id": "5340f8a8-d97a-40d9-a143-4ca9d4b635d8",
   "metadata": {},
   "outputs": [],
   "source": []
  }
 ],
 "metadata": {
  "kernelspec": {
   "display_name": "",
   "name": ""
  },
  "language_info": {
   "name": ""
  }
 },
 "nbformat": 4,
 "nbformat_minor": 5
}
